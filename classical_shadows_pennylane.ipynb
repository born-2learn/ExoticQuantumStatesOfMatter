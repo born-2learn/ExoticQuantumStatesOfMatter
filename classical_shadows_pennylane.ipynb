{
 "cells": [
  {
   "cell_type": "markdown",
   "metadata": {},
   "source": [
    "## Classical Shadows: Construction and Reconstruction"
   ]
  },
  {
   "cell_type": "code",
   "execution_count": 1,
   "metadata": {},
   "outputs": [],
   "source": [
    "import pennylane as qml\n",
    "import pennylane.numpy as np\n",
    "import matplotlib.pyplot as plt\n",
    "import time\n",
    "\n",
    "np.random.seed(666)"
   ]
  },
  {
   "cell_type": "code",
   "execution_count": 11,
   "metadata": {},
   "outputs": [],
   "source": [
    "def calculate_classical_shadow(circuit_template, params, shadow_size, num_qubits):\n",
    "    \"\"\"\n",
    "    Given a circuit, creates a collection of snapshots consisting of a bit string\n",
    "    and the index of a unitary operation.\n",
    "\n",
    "    Args:\n",
    "        circuit_template (function): A Pennylane QNode.\n",
    "        params (array): Circuit parameters.\n",
    "        shadow_size (int): The number of snapshots in the shadow.\n",
    "        num_qubits (int): The number of qubits in the circuit.\n",
    "\n",
    "    Returns:\n",
    "        Tuple of two numpy arrays. The first array contains measurement outcomes (-1, 1)\n",
    "        while the second array contains the index for the sampled Pauli's (0,1,2=X,Y,Z).\n",
    "        Each row of the arrays corresponds to a distinct snapshot or sample while each\n",
    "        column corresponds to a different qubit.\n",
    "    \"\"\"\n",
    "    # applying the single-qubit Clifford circuit is equivalent to measuring a Pauli\n",
    "    unitary_ensemble = [qml.PauliX, qml.PauliY, qml.PauliZ] # search for qiskit impl.\n",
    "\n",
    "    # sample random Pauli measurements uniformly, where 0,1,2 = X,Y,Z\n",
    "    unitary_ids = np.random.randint(0, 3, size=(shadow_size, num_qubits))\n",
    "    outcomes = np.zeros((shadow_size, num_qubits))\n",
    "\n",
    "    for ns in range(shadow_size):\n",
    "        # for each snapshot, add a random Pauli observable at each location\n",
    "        obs = [unitary_ensemble[int(unitary_ids[ns, i])](i) for i in range(num_qubits)]\n",
    "        print(obs)\n",
    "        outcomes[ns, :] = circuit_template(params, observable=obs)\n",
    "\n",
    "    # combine the computational basis outcomes and the sampled unitaries\n",
    "    return (outcomes, unitary_ids)"
   ]
  },
  {
   "cell_type": "code",
   "execution_count": 13,
   "metadata": {},
   "outputs": [
    {
     "name": "stdout",
     "output_type": "stream",
     "text": [
      "[PauliZ(wires=[0]), PauliX(wires=[1])]\n",
      "[PauliY(wires=[0]), PauliX(wires=[1])]\n",
      "[PauliY(wires=[0]), PauliX(wires=[1])]\n",
      "[PauliY(wires=[0]), PauliY(wires=[1])]\n",
      "[PauliX(wires=[0]), PauliX(wires=[1])]\n",
      "[PauliX(wires=[0]), PauliX(wires=[1])]\n",
      "[PauliY(wires=[0]), PauliZ(wires=[1])]\n",
      "[PauliX(wires=[0]), PauliZ(wires=[1])]\n",
      "[PauliZ(wires=[0]), PauliX(wires=[1])]\n",
      "[PauliX(wires=[0]), PauliX(wires=[1])]\n",
      "Shadow (tensor([[ 1., -1.],\n",
      "        [-1.,  1.],\n",
      "        [ 1.,  1.],\n",
      "        [-1.,  1.],\n",
      "        [ 1.,  1.],\n",
      "        [-1.,  1.],\n",
      "        [ 1.,  1.],\n",
      "        [ 1.,  1.],\n",
      "        [ 1.,  1.],\n",
      "        [ 1.,  1.]], requires_grad=True), tensor([[2, 0],\n",
      "        [1, 0],\n",
      "        [1, 0],\n",
      "        [1, 1],\n",
      "        [0, 0],\n",
      "        [0, 0],\n",
      "        [1, 2],\n",
      "        [0, 2],\n",
      "        [2, 0],\n",
      "        [0, 0]], requires_grad=True))\n"
     ]
    }
   ],
   "source": [
    "num_qubits = 2\n",
    "\n",
    "# set up a two-qubit device with shots = 1 to ensure that we only get a single measurement\n",
    "dev = qml.device(\"default.qubit\", wires=num_qubits, shots=1)\n",
    "\n",
    "# simple circuit to prepare rho\n",
    "@qml.qnode(dev)\n",
    "def local_qubit_rotation_circuit(params, **kwargs):\n",
    "    observables = kwargs.pop(\"observable\")\n",
    "    for w in dev.wires:\n",
    "        qml.RY(params[w], wires=w)\n",
    "\n",
    "    return [qml.expval(o) for o in observables] # search for qiskit implementation\n",
    "\n",
    "\n",
    "# arrays in which to collect data\n",
    "elapsed_times = []\n",
    "shadows = []\n",
    "\n",
    "# collecting shadows and elapsed times\n",
    "params = np.random.randn(2)\n",
    "a = True\n",
    "while a == True:\n",
    "    num_snapshots = 10\n",
    "    start = time.time()\n",
    "    shadow = calculate_classical_shadow(\n",
    "        local_qubit_rotation_circuit, params, num_snapshots, num_qubits\n",
    "    )\n",
    "    print('Shadow', shadow)\n",
    "    elapsed_times.append(time.time() - start)\n",
    "    shadows.append(shadow)\n",
    "    a = False\n",
    "\n"
   ]
  },
  {
   "cell_type": "code",
   "execution_count": 3,
   "metadata": {},
   "outputs": [
    {
     "name": "stdout",
     "output_type": "stream",
     "text": [
      "[[ 1.  1.]\n",
      " [ 1.  1.]\n",
      " [ 1.  1.]\n",
      " [ 1.  1.]\n",
      " [ 1.  1.]\n",
      " [ 1.  1.]\n",
      " [ 1. -1.]\n",
      " [ 1.  1.]\n",
      " [ 1.  1.]\n",
      " [-1. -1.]]\n",
      "[[2 2]\n",
      " [1 2]\n",
      " [0 1]\n",
      " [2 0]\n",
      " [0 2]\n",
      " [1 0]\n",
      " [2 0]\n",
      " [1 2]\n",
      " [0 1]\n",
      " [1 1]]\n"
     ]
    }
   ],
   "source": [
    "num_qubits = 2\n",
    "\n",
    "# set up a two-qubit device with shots = 1 to ensure that we only get a single measurement\n",
    "dev = qml.device(\"default.qubit\", wires=num_qubits, shots=1)\n",
    "\n",
    "# simple circuit to prepare rho\n",
    "@qml.qnode(dev)\n",
    "def local_qubit_rotation_circuit(params, **kwargs):\n",
    "    observables = kwargs.pop(\"observable\")\n",
    "    for w in dev.wires:\n",
    "        qml.RY(params[w], wires=w)\n",
    "\n",
    "    return [qml.expval(o) for o in observables] # search for qiskit implementation\n",
    "\n",
    "\n",
    "# arrays in which to collect data\n",
    "elapsed_times = []\n",
    "shadows = []\n",
    "\n",
    "# collecting shadows and elapsed times\n",
    "params = np.random.randn(2)\n",
    "for num_snapshots in [10, 100, 1000, 10000]:\n",
    "    start = time.time()\n",
    "    shadow = calculate_classical_shadow(\n",
    "        local_qubit_rotation_circuit, params, num_snapshots, num_qubits\n",
    "    )\n",
    "    elapsed_times.append(time.time() - start)\n",
    "    shadows.append(shadow)\n",
    "\n",
    "# printing out the smallest shadow as an example\n",
    "print(shadows[0][0])\n",
    "print(shadows[0][1])"
   ]
  },
  {
   "cell_type": "code",
   "execution_count": 10,
   "metadata": {},
   "outputs": [
    {
     "data": {
      "text/plain": [
       "100"
      ]
     },
     "execution_count": 10,
     "metadata": {},
     "output_type": "execute_result"
    }
   ],
   "source": [
    "len(shadows[1][1])"
   ]
  },
  {
   "cell_type": "code",
   "execution_count": 4,
   "metadata": {},
   "outputs": [
    {
     "data": {
      "image/png": "[encoded data removed]",
      "text/plain": [
       "<Figure size 640x480 with 1 Axes>"
      ]
     },
     "metadata": {},
     "output_type": "display_data"
    }
   ],
   "source": [
    "plt.plot([10, 100, 1000, 10000], elapsed_times)\n",
    "plt.title(\"Time taken to obtain a classical shadow from a two-qubit state\")\n",
    "plt.xlabel(\"Number of Snapshots in Shadow\")\n",
    "plt.ylabel(\"Elapsed Time\")\n",
    "plt.show()"
   ]
  },
  {
   "cell_type": "code",
   "execution_count": 5,
   "metadata": {},
   "outputs": [],
   "source": [
    "def snapshot_state(b_list, obs_list):\n",
    "    \"\"\"\n",
    "    Helper function for `shadow_state_reconstruction` that reconstructs\n",
    "     a state from a single snapshot in a shadow.\n",
    "\n",
    "    Implements Eq. (S44) from https://arxiv.org/pdf/2002.08953.pdf\n",
    "\n",
    "    Args:\n",
    "        b_list (array): The list of classical outcomes for the snapshot.\n",
    "        obs_list (array): Indices for the applied Pauli measurement.\n",
    "\n",
    "    Returns:\n",
    "        Numpy array with the reconstructed snapshot.\n",
    "    \"\"\"\n",
    "    num_qubits = len(b_list)\n",
    "\n",
    "    # computational basis states\n",
    "    zero_state = np.array([[1, 0], [0, 0]])\n",
    "    one_state = np.array([[0, 0], [0, 1]])\n",
    "\n",
    "    # local qubit unitaries\n",
    "    phase_z = np.array([[1, 0], [0, -1j]], dtype=complex)\n",
    "    hadamard = qml.matrix(qml.Hadamard(0))\n",
    "    identity = qml.matrix(qml.Identity(0))\n",
    "\n",
    "    # undo the rotations that were added implicitly to the circuit for the Pauli measurements\n",
    "    unitaries = [hadamard, hadamard @ phase_z, identity]\n",
    "\n",
    "    # reconstructing the snapshot state from local Pauli measurements\n",
    "    rho_snapshot = [1]\n",
    "    for i in range(num_qubits):\n",
    "        state = zero_state if b_list[i] == 1 else one_state\n",
    "        U = unitaries[int(obs_list[i])]\n",
    "\n",
    "        # applying Eq. (S44)\n",
    "        local_rho = 3 * (U.conj().T @ state @ U) - identity\n",
    "        rho_snapshot = np.kron(rho_snapshot, local_rho)\n",
    "\n",
    "    return rho_snapshot"
   ]
  },
  {
   "cell_type": "code",
   "execution_count": 6,
   "metadata": {},
   "outputs": [],
   "source": [
    "def shadow_state_reconstruction(shadow):\n",
    "    \"\"\"\n",
    "    Reconstruct a state approximation as an average over all snapshots in the shadow.\n",
    "\n",
    "    Args:\n",
    "        shadow (tuple): A shadow tuple obtained from `calculate_classical_shadow`.\n",
    "\n",
    "    Returns:\n",
    "        Numpy array with the reconstructed quantum state.\n",
    "    \"\"\"\n",
    "    num_snapshots, num_qubits = shadow[0].shape\n",
    "\n",
    "    # classical values\n",
    "    b_lists, obs_lists = shadow\n",
    "\n",
    "    # Averaging over snapshot states.\n",
    "    shadow_rho = np.zeros((2 ** num_qubits, 2 ** num_qubits), dtype=complex)\n",
    "    for i in range(num_snapshots):\n",
    "        shadow_rho += snapshot_state(b_lists[i], obs_lists[i])\n",
    "\n",
    "    return shadow_rho / num_snapshots\n"
   ]
  },
  {
   "cell_type": "markdown",
   "metadata": {},
   "source": [
    "## Example: Reconstructing a Bell State"
   ]
  },
  {
   "cell_type": "code",
   "execution_count": 8,
   "metadata": {},
   "outputs": [],
   "source": [
    "num_qubits = 2\n",
    "\n",
    "dev = qml.device(\"default.qubit\", wires=num_qubits, shots=1)\n",
    "\n",
    "# circuit to create a Bell state and measure it in\n",
    "# the bases specified by the 'observable' keyword argument.\n",
    "@qml.qnode(dev)\n",
    "def bell_state_circuit(params, **kwargs):\n",
    "    observables = kwargs.pop(\"observable\")\n",
    "\n",
    "    qml.Hadamard(0)\n",
    "    qml.CNOT(wires=[0, 1])\n",
    "\n",
    "    return [qml.expval(o) for o in observables]"
   ]
  },
  {
   "cell_type": "code",
   "execution_count": 9,
   "metadata": {},
   "outputs": [
    {
     "name": "stdout",
     "output_type": "stream",
     "text": [
      "[[ 1. -1.]\n",
      " [ 1. -1.]\n",
      " [ 1. -1.]\n",
      " ...\n",
      " [ 1. -1.]\n",
      " [-1.  1.]\n",
      " [ 1.  1.]]\n",
      "[[1 0]\n",
      " [0 1]\n",
      " [2 0]\n",
      " ...\n",
      " [1 1]\n",
      " [1 1]\n",
      " [0 2]]\n"
     ]
    }
   ],
   "source": [
    "# constructing a classical shadow of 1000 snapshots\n",
    "\n",
    "num_snapshots = 1000\n",
    "params = []\n",
    "\n",
    "shadow = calculate_classical_shadow(\n",
    "    bell_state_circuit, params, num_snapshots, num_qubits\n",
    ")\n",
    "print(shadow[0])\n",
    "print(shadow[1])"
   ]
  },
  {
   "cell_type": "markdown",
   "metadata": {},
   "source": [
    "### Reconstruct the Bell state"
   ]
  },
  {
   "cell_type": "code",
   "execution_count": 10,
   "metadata": {},
   "outputs": [
    {
     "name": "stdout",
     "output_type": "stream",
     "text": [
      "[[ 0.50275+0.j       0.0285 -0.02325j  0.06375+0.j       0.4995 -0.00675j]\n",
      " [ 0.0285 +0.02325j -0.01925+0.j       0.027  -0.00675j -0.04425-0.018j  ]\n",
      " [ 0.06375-0.j       0.027  +0.00675j -0.05675+0.j       0.006  +0.00375j]\n",
      " [ 0.4995 +0.00675j -0.04425+0.018j    0.006  -0.00375j  0.57325+0.j     ]]\n"
     ]
    }
   ],
   "source": [
    "shadow_state = shadow_state_reconstruction(shadow)\n",
    "print(np.round(shadow_state, decimals=6))"
   ]
  },
  {
   "cell_type": "code",
   "execution_count": 13,
   "metadata": {},
   "outputs": [
    {
     "data": {
      "text/plain": [
       "tensor([[0.5, 0. , 0. , 0.5],\n",
       "        [0. , 0. , 0. , 0. ],\n",
       "        [0. , 0. , 0. , 0. ],\n",
       "        [0.5, 0. , 0. , 0.5]], requires_grad=True)"
      ]
     },
     "execution_count": 13,
     "metadata": {},
     "output_type": "execute_result"
    }
   ],
   "source": [
    "bell_state = np.array([[0.5, 0, 0, 0.5], [0, 0, 0, 0], [0, 0, 0, 0], [0.5, 0, 0, 0.5]])\n",
    "bell_state"
   ]
  },
  {
   "cell_type": "code",
   "execution_count": 15,
   "metadata": {},
   "outputs": [
    {
     "data": {
      "text/plain": [
       "(0.16156422871415568+0j)"
      ]
     },
     "execution_count": 15,
     "metadata": {},
     "output_type": "execute_result"
    }
   ],
   "source": [
    "# Using operator norm to measure closenenss\n",
    "def operator_2_norm(R):\n",
    "    \"\"\"\n",
    "    Calculate the operator 2-norm.\n",
    "\n",
    "    Args:\n",
    "        R (array): The operator whose norm we want to calculate.\n",
    "\n",
    "    Returns:\n",
    "        Scalar corresponding to the norm.\n",
    "    \"\"\"\n",
    "    return np.sqrt(np.trace(R.conjugate().transpose() @ R))\n",
    "\n",
    "# Calculating the distance between ideal and shadow states.\n",
    "operator_2_norm(bell_state - shadow_state)"
   ]
  },
  {
   "cell_type": "code",
   "execution_count": 16,
   "metadata": {},
   "outputs": [
    {
     "data": {
      "image/png": "[encoded data removed]",
      "text/plain": [
       "<Figure size 640x480 with 1 Axes>"
      ]
     },
     "metadata": {},
     "output_type": "display_data"
    }
   ],
   "source": [
    "number_of_runs = 10\n",
    "snapshots_range = [100, 1000, 6000]\n",
    "distances = np.zeros((number_of_runs, len(snapshots_range)))\n",
    "\n",
    "# run the estimation multiple times so that we can include error bars\n",
    "for i in range(number_of_runs):\n",
    "    for j, num_snapshots in enumerate(snapshots_range):\n",
    "        shadow = calculate_classical_shadow(\n",
    "            bell_state_circuit, params, num_snapshots, num_qubits\n",
    "        )\n",
    "        shadow_state = shadow_state_reconstruction(shadow)\n",
    "\n",
    "        distances[i, j] = np.real(operator_2_norm(bell_state - shadow_state))\n",
    "\n",
    "plt.errorbar(\n",
    "    snapshots_range,\n",
    "    np.mean(distances, axis=0),\n",
    "    yerr=np.std(distances, axis=0),\n",
    ")\n",
    "plt.title(\"Distance between Ideal and Shadow Bell States\")\n",
    "plt.xlabel(\"Number of Snapshots\")\n",
    "plt.ylabel(\"Distance\")\n",
    "plt.show()"
   ]
  }
 ],
 "metadata": {
  "kernelspec": {
   "display_name": "Python 3.9.15 ('quantummatter')",
   "language": "python",
   "name": "python3"
  },
  "language_info": {
   "codemirror_mode": {
    "name": "ipython",
    "version": 3
   },
   "file_extension": ".py",
   "mimetype": "text/x-python",
   "name": "python",
   "nbconvert_exporter": "python",
   "pygments_lexer": "ipython3",
   "version": "3.9.15"
  },
  "orig_nbformat": 4,
  "vscode": {
   "interpreter": {
    "hash": "bb815d22105fbea9d059d2cb015550dfa6a8e7d5d513ff687b85aba7014033b5"
   }
  }
 },
 "nbformat": 4,
 "nbformat_minor": 2
}
